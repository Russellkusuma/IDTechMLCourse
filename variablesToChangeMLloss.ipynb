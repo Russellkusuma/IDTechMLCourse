{
 "cells": [
  {
   "cell_type": "markdown",
   "metadata": {
    "collapsed": true
   },
   "source": [
    "Intro to Tensorflow\n",
    "---\n",
    "\n",
    "Import tensorflow and other needed libraries here:"
   ]
  },
  {
   "cell_type": "code",
   "execution_count": 3,
   "metadata": {},
   "outputs": [],
   "source": [
    "# TODO: Add imports.\n",
    "import tensorflow as tf\n",
    "import matplotlib.pyplot as plt\n",
    "%matplotlib inline"
   ]
  },
  {
   "cell_type": "markdown",
   "metadata": {},
   "source": [
    "Clear the Graph\n",
    "---\n",
    "Clear the default graph to reset everything back to default"
   ]
  },
  {
   "cell_type": "code",
   "execution_count": 4,
   "metadata": {},
   "outputs": [],
   "source": [
    "# TODO: Clear the tensorflow graph\n",
    "tf.reset_default_graph()"
   ]
  },
  {
   "cell_type": "markdown",
   "metadata": {},
   "source": [
    "Set up Placeholders\n",
    "---\n",
    "Placeholders are places you can feed data into your model. They indicate a value that you'll feed in later when the network is run.\n",
    "\n",
    "Shape is just how many elements can fit on the spot [x ,or y] none means anything will do"
   ]
  },
  {
   "cell_type": "code",
   "execution_count": 5,
   "metadata": {},
   "outputs": [],
   "source": [
    "# TODO: Create placeholders"
   ]
  },
  {
   "cell_type": "markdown",
   "metadata": {},
   "source": [
    "Variables\n",
    "---\n",
    "Variables keep their value between runs. These are the building blocks of machine learning, and represent the parameters that will be tuned as your model trains"
   ]
  },
  {
   "cell_type": "code",
   "execution_count": 6,
   "metadata": {},
   "outputs": [],
   "source": [
    "# TODO: Create variables\n",
    "tf.reset_default_graph()\n",
    "\n",
    "inputData = tf.placeholder(dtype=tf.float32, shape=None)\n",
    "outputData = tf.placeholder(dtype=tf.float32, shape=None)\n",
    "\n",
    "slope = tf.Variable(0, dtype=tf.float32)\n",
    "intercept = tf.Variable(1, dtype=tf.float32)\n",
    "#^This is basicly y intercept with a slop of rise over run\n",
    "model_operation = slope * inputData + intercept\n",
    "error = model_operation - outputData\n",
    "squaredError = tf.square(error)\n",
    "loss = tf.reduce_mean(squaredError)\n",
    "\n",
    "optimizer = tf.train.GradientDescentOptimizer(learning_rate=0.005)\n",
    "#^one of the machine learning functions that improve estimation over time\n",
    "train = optimizer.minimize(loss)"
   ]
  },
  {
   "cell_type": "markdown",
   "metadata": {},
   "source": [
    "Running a Session\n",
    "---\n",
    "Once your graph is built, you can start a session. Putting the session in a `with` statement allows the session to automatically close once the statement finishes:\n",
    "```\n",
    "with tf.Session() as sess:\n",
    "    # Run the session in here\n",
    "    ...\n",
    "# Session closes when you get here\n",
    "```"
   ]
  },
  {
   "cell_type": "code",
   "execution_count": 7,
   "metadata": {},
   "outputs": [
    {
     "name": "stdout",
     "output_type": "stream",
     "text": [
      "[0.121999994, 1.04]\n[1.8820356, 1.416124]\n[1.9395611, 1.2573712]\n[1.9810126, 1.1392077]\n[2.0117533, 1.0515718]\n[2.0345526, 0.9865773]\n[2.0514612, 0.93837386]\n"
     ]
    },
    {
     "name": "stdout",
     "output_type": "stream",
     "text": [
      "[2.0640013, 0.9026244]\n[2.0733008, 0.8761111]\n[2.0801995, 0.8564475]\n[2.0853148, 0.841864]\n[2.089109, 0.8310483]\n[2.0919228, 0.8230268]\n"
     ]
    },
    {
     "name": "stdout",
     "output_type": "stream",
     "text": [
      "[2.0940094, 0.8170776]\n[2.095557, 0.81266576]\n[2.0967047, 0.80939364]\n[2.097556, 0.80696696]\n[2.0981872, 0.8051671]\n[2.0986552, 0.8038326]\n[2.0990028, 0.8028428]\n0.3800015\n"
     ]
    },
    {
     "data": {
      "image/png": "[encoded data removed]",
      "text/plain": [
       "<matplotlib.figure.Figure at 0x7fdf6c481f98>"
      ]
     },
     "metadata": {},
     "output_type": "display_data"
    }
   ],
   "source": [
    "# TODO: Run a session\n",
    "\n",
    "init = tf.global_variables_initializer()\n",
    "#^^ that function is important if you want to reset variables\n",
    "#for trainable models\n",
    "\n",
    "xValues = [0,1,2,3,4]\n",
    "yValues = [1,3,4,8,9]\n",
    "#^Input variables\n",
    "plt.figure(figsize=(8,5), dpi=80)\n",
    "#^Graph properties\n",
    "with tf.Session() as sess:\n",
    "    sess.run(init)\n",
    "    for i in range(2000):\n",
    "        sess.run(train, feed_dict={inputData: xValues, outputData: yValues})\n",
    "        if i % 100 == 0:\n",
    "            print(sess.run([slope, intercept]))\n",
    "            plt.plot(xValues, sess.run(model_operation, feed_dict={inputData: xValues}))\n",
    "            #^Plot the points\n",
    "    print(sess.run(loss, feed_dict={inputData: xValues, outputData: yValues}))\n",
    "    plt.plot(xValues, yValues, 'ro', 'Training Data')\n",
    "    plt.plot(xValues, sess.run(model_operation,  feed_dict={inputData: xValues}))\n",
    "    plt.show()"
   ]
  },
  {
   "cell_type": "markdown",
   "metadata": {},
   "source": [
    "Neurons and Neural Networks\n",
    "---\n",
    "Tensorflow provides functions to easily create layers of neurons for a neural network."
   ]
  },
  {
   "cell_type": "code",
   "execution_count": 11,
   "metadata": {},
   "outputs": [],
   "source": []
  },
  {
   "cell_type": "code",
   "execution_count": 11,
   "metadata": {},
   "outputs": [],
   "source": []
  },
  {
   "cell_type": "code",
   "execution_count": 11,
   "metadata": {},
   "outputs": [],
   "source": []
  },
  {
   "cell_type": "code",
   "execution_count": 11,
   "metadata": {},
   "outputs": [],
   "source": []
  },
  {
   "cell_type": "code",
   "execution_count": 11,
   "metadata": {},
   "outputs": [],
   "source": []
  },
  {
   "cell_type": "code",
   "execution_count": 11,
   "metadata": {},
   "outputs": [],
   "source": []
  },
  {
   "cell_type": "code",
   "execution_count": 11,
   "metadata": {},
   "outputs": [],
   "source": []
  },
  {
   "cell_type": "code",
   "execution_count": 11,
   "metadata": {},
   "outputs": [],
   "source": []
  },
  {
   "cell_type": "code",
   "execution_count": 11,
   "metadata": {},
   "outputs": [],
   "source": []
  },
  {
   "cell_type": "code",
   "execution_count": 11,
   "metadata": {},
   "outputs": [],
   "source": []
  },
  {
   "cell_type": "code",
   "execution_count": null,
   "metadata": {},
   "outputs": [],
   "source": []
  }
 ],
 "metadata": {
  "kernelspec": {
   "display_name": "Python 2",
   "language": "python",
   "name": "python2"
  },
  "language_info": {
   "codemirror_mode": {
    "name": "ipython",
    "version": 2
   },
   "file_extension": ".py",
   "mimetype": "text/x-python",
   "name": "python",
   "nbconvert_exporter": "python",
   "pygments_lexer": "ipython2",
   "version": "2.7.6"
  }
 },
 "nbformat": 4,
 "nbformat_minor": 0
}
